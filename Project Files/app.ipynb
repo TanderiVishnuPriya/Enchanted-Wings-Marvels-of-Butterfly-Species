{
 "cells": [
  {
   "cell_type": "code",
   "execution_count": 1,
   "id": "6fd7969c",
   "metadata": {},
   "outputs": [
    {
     "name": "stdout",
     "output_type": "stream",
     "text": [
      "Found 5225 images belonging to 75 classes.\n",
      "Found 1274 images belonging to 75 classes.\n"
     ]
    }
   ],
   "source": [
    "from tensorflow.keras.preprocessing.image import ImageDataGenerator\n",
    "from sklearn.model_selection import train_test_split\n",
    "import numpy as np\n",
    "\n",
    "# Define path\n",
    "train_dir = r'C:\\Users\\priya\\butterfly_dataset\\train'\n",
    "\n",
    "# Use validation_split to split data\n",
    "train_datagen = ImageDataGenerator(rescale=1./255, validation_split=0.2)\n",
    "\n",
    "train_data = train_datagen.flow_from_directory(\n",
    "    train_dir,\n",
    "    target_size=(224, 224),\n",
    "    batch_size=32,\n",
    "    class_mode='sparse',\n",
    "    subset='training'\n",
    ")\n",
    "\n",
    "val_data = train_datagen.flow_from_directory(\n",
    "    train_dir,\n",
    "    target_size=(224, 224),\n",
    "    batch_size=32,\n",
    "    class_mode='sparse',\n",
    "    subset='validation'\n",
    ")"
   ]
  },
  {
   "cell_type": "code",
   "execution_count": 2,
   "id": "91e7d4d9",
   "metadata": {},
   "outputs": [],
   "source": [
    "from tensorflow.keras.applications import VGG16\n",
    "from tensorflow.keras.models import Sequential\n",
    "from tensorflow.keras.layers import Flatten, Dense, Dropout\n",
    "from tensorflow.keras.optimizers import Adam\n",
    "\n",
    "# Load the VGG16 base model (without the top classifier)\n",
    "base_model = VGG16(include_top=False, weights='imagenet', input_shape=(224, 224, 3))\n",
    "base_model.trainable = False  # Freeze the convolutional base\n",
    "\n",
    "# Add custom classifier on top\n",
    "model = Sequential([\n",
    "    base_model,\n",
    "    Flatten(),\n",
    "    Dropout(0.5),\n",
    "    Dense(128, activation='relu'),\n",
    "    Dense(75, activation='softmax')  # 75 classes\n",
    "])\n",
    "\n",
    "# Compile the model\n",
    "model.compile(optimizer=Adam(), loss='sparse_categorical_crossentropy', metrics=['accuracy'])"
   ]
  },
  {
   "cell_type": "code",
   "execution_count": 7,
   "id": "edab592a",
   "metadata": {
    "scrolled": true
   },
   "outputs": [
    {
     "name": "stdout",
     "output_type": "stream",
     "text": [
      "Epoch 1/10\n",
      "164/164 [==============================] - 531s 3s/step - loss: 3.7632 - accuracy: 0.0838 - val_loss: 3.5255 - val_accuracy: 0.1287\n",
      "Epoch 2/10\n",
      "164/164 [==============================] - 542s 3s/step - loss: 3.2393 - accuracy: 0.1516 - val_loss: 3.0363 - val_accuracy: 0.2041\n",
      "Epoch 3/10\n",
      "164/164 [==============================] - 519s 3s/step - loss: 2.8150 - accuracy: 0.2300 - val_loss: 2.8237 - val_accuracy: 0.2457\n",
      "Epoch 4/10\n",
      "164/164 [==============================] - 527s 3s/step - loss: 2.4103 - accuracy: 0.3208 - val_loss: 2.4492 - val_accuracy: 0.3273\n",
      "Epoch 5/10\n",
      "164/164 [==============================] - 527s 3s/step - loss: 2.1158 - accuracy: 0.4013 - val_loss: 2.1448 - val_accuracy: 0.3917\n",
      "Epoch 6/10\n",
      "164/164 [==============================] - 530s 3s/step - loss: 1.8117 - accuracy: 0.4767 - val_loss: 1.9415 - val_accuracy: 0.4419\n",
      "Epoch 7/10\n",
      "164/164 [==============================] - 529s 3s/step - loss: 1.5695 - accuracy: 0.5397 - val_loss: 1.7894 - val_accuracy: 0.4961\n",
      "Epoch 8/10\n",
      "164/164 [==============================] - 527s 3s/step - loss: 1.4023 - accuracy: 0.5845 - val_loss: 1.6754 - val_accuracy: 0.5165\n",
      "Epoch 9/10\n",
      "164/164 [==============================] - 527s 3s/step - loss: 1.2689 - accuracy: 0.6149 - val_loss: 1.7033 - val_accuracy: 0.5016\n",
      "Epoch 10/10\n",
      "164/164 [==============================] - 527s 3s/step - loss: 1.1680 - accuracy: 0.6471 - val_loss: 1.6054 - val_accuracy: 0.5330\n"
     ]
    }
   ],
   "source": [
    "model.fit(\n",
    "    train_data,\n",
    "    epochs=10,\n",
    "    validation_data=val_data\n",
    ")\n",
    "\n",
    "# Save the trained model\n",
    "model.save(r'C:\\Users\\priya\\OneDrive\\Documents\\PROJECT3\\vgg16_model.h5')"
   ]
  },
  {
   "cell_type": "code",
   "execution_count": 3,
   "id": "ed49f89f",
   "metadata": {},
   "outputs": [
    {
     "name": "stderr",
     "output_type": "stream",
     "text": [
      "DEBUG:h5py._conv:Creating converter from 3 to 5\n",
      "INFO:root:Model loaded successfully.\n"
     ]
    },
    {
     "name": "stdout",
     "output_type": "stream",
     "text": [
      " * Serving Flask app '__main__'\n",
      " * Debug mode: on\n"
     ]
    },
    {
     "name": "stderr",
     "output_type": "stream",
     "text": [
      "INFO:werkzeug:\u001b[31m\u001b[1mWARNING: This is a development server. Do not use it in a production deployment. Use a production WSGI server instead.\u001b[0m\n",
      " * Running on http://127.0.0.1:5000\n",
      "INFO:werkzeug:\u001b[33mPress CTRL+C to quit\u001b[0m\n",
      "INFO:werkzeug: * Restarting with stat\n"
     ]
    },
    {
     "ename": "SystemExit",
     "evalue": "1",
     "output_type": "error",
     "traceback": [
      "An exception has occurred, use %tb to see the full traceback.\n",
      "\u001b[1;31mSystemExit\u001b[0m\u001b[1;31m:\u001b[0m 1\n"
     ]
    },
    {
     "name": "stderr",
     "output_type": "stream",
     "text": [
      "C:\\Users\\priya\\anaconda3\\envs\\tfenv39\\lib\\site-packages\\IPython\\core\\interactiveshell.py:3558: UserWarning: To exit: use 'exit', 'quit', or Ctrl-D.\n",
      "  warn(\"To exit: use 'exit', 'quit', or Ctrl-D.\", stacklevel=1)\n"
     ]
    }
   ],
   "source": []
  },
  {
   "cell_type": "code",
   "execution_count": 4,
   "id": "7fe0859c",
   "metadata": {},
   "outputs": [
    {
     "ename": "SyntaxError",
     "evalue": "'return' outside function (375280448.py, line 1)",
     "output_type": "error",
     "traceback": [
      "\u001b[1;36m  Cell \u001b[1;32mIn[4], line 1\u001b[1;36m\u001b[0m\n\u001b[1;33m    return render_template('index.html')\u001b[0m\n\u001b[1;37m    ^\u001b[0m\n\u001b[1;31mSyntaxError\u001b[0m\u001b[1;31m:\u001b[0m 'return' outside function\n"
     ]
    }
   ],
   "source": [
    "return render_template('index.html')"
   ]
  },
  {
   "cell_type": "code",
   "execution_count": 4,
   "id": "ff06dc72",
   "metadata": {},
   "outputs": [],
   "source": [
    "@app.route('/')\n",
    "def homepage():\n",
    "    return render_template('index.html')"
   ]
  },
  {
   "cell_type": "code",
   "execution_count": 5,
   "id": "9b3b1a7a",
   "metadata": {},
   "outputs": [
    {
     "name": "stderr",
     "output_type": "stream",
     "text": [
      "INFO:root:Model loaded successfully.\n"
     ]
    },
    {
     "name": "stdout",
     "output_type": "stream",
     "text": [
      " * Serving Flask app '__main__'\n",
      " * Debug mode: on\n"
     ]
    },
    {
     "name": "stderr",
     "output_type": "stream",
     "text": [
      "INFO:werkzeug:\u001b[31m\u001b[1mWARNING: This is a development server. Do not use it in a production deployment. Use a production WSGI server instead.\u001b[0m\n",
      " * Running on http://127.0.0.1:5000\n",
      "INFO:werkzeug:\u001b[33mPress CTRL+C to quit\u001b[0m\n",
      "INFO:werkzeug: * Restarting with stat\n"
     ]
    },
    {
     "ename": "SystemExit",
     "evalue": "1",
     "output_type": "error",
     "traceback": [
      "An exception has occurred, use %tb to see the full traceback.\n",
      "\u001b[1;31mSystemExit\u001b[0m\u001b[1;31m:\u001b[0m 1\n"
     ]
    }
   ],
   "source": []
  },
  {
   "cell_type": "code",
   "execution_count": 6,
   "id": "26801eb9",
   "metadata": {},
   "outputs": [
    {
     "name": "stderr",
     "output_type": "stream",
     "text": [
      "INFO:root:Model loaded successfully.\n"
     ]
    },
    {
     "name": "stdout",
     "output_type": "stream",
     "text": [
      " * Serving Flask app '__main__'\n",
      " * Debug mode: on\n"
     ]
    },
    {
     "name": "stderr",
     "output_type": "stream",
     "text": [
      "INFO:werkzeug:\u001b[31m\u001b[1mWARNING: This is a development server. Do not use it in a production deployment. Use a production WSGI server instead.\u001b[0m\n",
      " * Running on http://127.0.0.1:5000\n",
      "INFO:werkzeug:\u001b[33mPress CTRL+C to quit\u001b[0m\n",
      "INFO:werkzeug: * Restarting with stat\n"
     ]
    },
    {
     "ename": "SystemExit",
     "evalue": "1",
     "output_type": "error",
     "traceback": [
      "An exception has occurred, use %tb to see the full traceback.\n",
      "\u001b[1;31mSystemExit\u001b[0m\u001b[1;31m:\u001b[0m 1\n"
     ]
    }
   ],
   "source": [
    "from flask import Flask, request, jsonify, render_template\n",
    "from tensorflow.keras.models import load_model\n",
    "from tensorflow.keras.preprocessing.image import img_to_array, load_img\n",
    "import numpy as np\n",
    "import logging\n",
    "\n",
    "app = Flask(__name__)\n",
    "logging.basicConfig(level=logging.INFO)\n",
    "\n",
    "# Load model\n",
    "try:\n",
    "    model = load_model('vgg16_model.h5')\n",
    "    logging.info(\"Model loaded successfully.\")\n",
    "except Exception as e:\n",
    "    logging.error(\"Error loading model\", exc_info=True)\n",
    "    model = None\n",
    "\n",
    "# Butterfly name mapping (as you had)\n",
    "\n",
    "@app.route('/')\n",
    "def index():\n",
    "    return render_template('index.html')\n",
    "\n",
    "@app.route('/predict', methods=['POST'])\n",
    "def predict():\n",
    "    if model is None:\n",
    "        return jsonify({'error': 'Model not loaded'})\n",
    "\n",
    "    file = request.files.get('file')\n",
    "    if not file:\n",
    "        return jsonify({'error': 'No file uploaded'})\n",
    "\n",
    "    image = load_img(file, target_size=(224, 224))\n",
    "    image = img_to_array(image)\n",
    "    image = np.expand_dims(image, axis=0) / 255.0\n",
    "\n",
    "    prediction = model.predict(image)\n",
    "    index = np.argmax(prediction)\n",
    "    return jsonify({'prediction': butterfly_names.get(index, 'Unknown')})\n",
    "\n",
    "if __name__ == '__main__':\n",
    "    app.run(debug=True)"
   ]
  },
  {
   "cell_type": "code",
   "execution_count": 7,
   "id": "d04998ed",
   "metadata": {},
   "outputs": [
    {
     "name": "stderr",
     "output_type": "stream",
     "text": [
      "INFO:root:Model loaded successfully.\n"
     ]
    },
    {
     "name": "stdout",
     "output_type": "stream",
     "text": [
      " * Serving Flask app '__main__'\n",
      " * Debug mode: on\n"
     ]
    },
    {
     "name": "stderr",
     "output_type": "stream",
     "text": [
      "INFO:werkzeug:\u001b[31m\u001b[1mWARNING: This is a development server. Do not use it in a production deployment. Use a production WSGI server instead.\u001b[0m\n",
      " * Running on http://127.0.0.1:5000\n",
      "INFO:werkzeug:\u001b[33mPress CTRL+C to quit\u001b[0m\n",
      "INFO:werkzeug: * Restarting with stat\n"
     ]
    },
    {
     "ename": "SystemExit",
     "evalue": "1",
     "output_type": "error",
     "traceback": [
      "An exception has occurred, use %tb to see the full traceback.\n",
      "\u001b[1;31mSystemExit\u001b[0m\u001b[1;31m:\u001b[0m 1\n"
     ]
    }
   ],
   "source": [
    "from flask import Flask, request, jsonify, render_template\n",
    "import logging\n",
    "import numpy as np\n",
    "from tensorflow.keras.models import load_model\n",
    "from tensorflow.keras.preprocessing.image import img_to_array, load_img\n",
    "\n",
    "app = Flask(__name__)\n",
    "\n",
    "# Configure logging\n",
    "logging.basicConfig(level=logging.INFO)\n",
    "\n",
    "# Load the trained model (not training again)\n",
    "try:\n",
    "    model = load_model('vgg16_model.h5')  # Ensure this file is already saved\n",
    "    logging.info(\"Model loaded successfully.\")\n",
    "except Exception as e:\n",
    "    logging.error(\"Error loading model\", exc_info=True)\n",
    "    model = None\n",
    "\n",
    "# Class names mapping\n",
    "butterfly_names = {\n",
    "    0: 'ADONIS', 1: 'AFRICAN GIANT SWALLOWTAIL', 2: 'AMERICAN SNOOT', 3: 'ANNAKH',\n",
    "    4: 'APPOLLO', 5: 'ATALA', 6: 'BANDED ORANGE HELICONIAN', 7: 'BANDED PEACOCK',\n",
    "    8: 'BECKERS WHITE', 9: 'BLACK HAIRSTREAK', 10: 'BLUE MORPHO', 11: 'BLUE SPOTTED CROW',\n",
    "    12: 'BROWN SIPROETA', 13: 'CABBAGE WHITE', 14: 'CAIRNS BIRDWING', 15: 'CHEQUERED SKIPPER',\n",
    "    16: 'CHESTNUT', 17: 'CLEOPATRA', 18: 'CLODIUS PARNASSIAN', 19: 'CLOUDED SULPHUR',\n",
    "    20: 'COMMON BANDED AWL', 21: 'COMMON WOOD-NYMPH', 22: 'COPPER TAIL', 23: 'CRESCENT',\n",
    "    24: 'CRIMSON PATCH', 25: 'DANAID EGGFLY', 26: 'EASTERN COMMA', 27: 'EASTERN DAPPLE WHITE',\n",
    "    28: 'EASTERN PINE ELFIN', 29: 'ELBOWED PIERROT', 30: 'GOLD BANDED', 31: 'GREAT EGGFLY',\n",
    "    32: 'GREAT JAY', 33: 'GREEN CELLED CATTLEHEART', 34: 'GREY HAIRSTREAK', 35: 'INDRA SWALLOWTAIL',\n",
    "    36: 'IPHICLUS SISTER', 37: 'JULIA', 38: 'LARGE MARBLE', 39: 'MALACHITE',\n",
    "    40: 'MANGROVE SKIPPER', 41: 'MESTRA', 42: 'METALMARK', 43: 'MILBERTS TORTOISESHELL',\n",
    "    44: 'MONARCH', 45: 'MOURNING CLOAK', 46: 'ORANGE OAKLEAF', 47: 'ORANGE TIP',\n",
    "    48: 'ORCHARD SWALLOWTAIL', 49: 'PAINTED LADY', 50: 'PAPER KITE', 51: 'PEACOCK',\n",
    "    52: 'PINE WHITE', 53: 'PIPEVINE SWALLOWTAIL', 54: 'POPINJAY', 55: 'PURPLE HAIRSTREAK',\n",
    "    56: 'PURPLISH COPPER', 57: 'QUESTION MARK', 58: 'RED ADMIRAL', 59: 'RED CRACKER',\n",
    "    60: 'RED POSTMAN', 61: 'RED SPOTTED PURPLE', 62: 'SCARCE SWALLOWTAIL', 63: 'SILVER SPOT SKIPPER',\n",
    "    64: 'SLEEPY ORANGE', 65: 'SOOTYWING', 66: 'SOUTHERN DOGFACE', 67: 'STRAITED QUEEN',\n",
    "    68: 'TROPICAL LEAFWING', 69: 'TWO BARRED FLASHER', 70: 'ULYSES', 71: 'VICEROY',\n",
    "    72: 'WOOD SATYR', 73: 'YELLOW SWALLOWTAIL', 74: 'ZEBRA LONGWING'\n",
    "}\n",
    "\n",
    "@app.route('/')\n",
    "def index():\n",
    "    return render_template('index.html')  # Make sure templates/index.html exists\n",
    "\n",
    "@app.route('/predict', methods=['POST'])\n",
    "def predict():\n",
    "    if model is None:\n",
    "        return jsonify({'error': 'Model not loaded'})\n",
    "\n",
    "    file = request.files.get('file')\n",
    "    if not file:\n",
    "        return jsonify({'error': 'No file uploaded'})\n",
    "\n",
    "    try:\n",
    "        image = load_img(file, target_size=(224, 224))\n",
    "        image = img_to_array(image)\n",
    "        image = np.expand_dims(image, axis=0) / 255.0\n",
    "\n",
    "        prediction = model.predict(image)\n",
    "        index = np.argmax(prediction)\n",
    "        result = butterfly_names.get(index, \"Unknown\")\n",
    "\n",
    "        return jsonify({'prediction': result})\n",
    "    except Exception as e:\n",
    "        logging.error(\"Prediction error\", exc_info=True)\n",
    "        return jsonify({'error': 'Prediction failed'})\n",
    "\n",
    "if __name__ == '__main__':\n",
    "    app.run(debug=True)"
   ]
  },
  {
   "cell_type": "code",
   "execution_count": 8,
   "id": "fa04c94b",
   "metadata": {},
   "outputs": [
    {
     "name": "stderr",
     "output_type": "stream",
     "text": [
      "DEBUG:h5py._conv:Creating converter from 5 to 3\n"
     ]
    }
   ],
   "source": [
    "model.save(\"vgg16_model.h5\")"
   ]
  },
  {
   "cell_type": "code",
   "execution_count": 9,
   "id": "5c11ec10",
   "metadata": {},
   "outputs": [],
   "source": [
    "model = load_model(\"vgg16_model.h5\")"
   ]
  },
  {
   "cell_type": "code",
   "execution_count": null,
   "id": "f4a38cad",
   "metadata": {
    "scrolled": true
   },
   "outputs": [
    {
     "name": "stderr",
     "output_type": "stream",
     "text": [
      "INFO:root:✅ Model loaded successfully.\n"
     ]
    },
    {
     "name": "stdout",
     "output_type": "stream",
     "text": [
      " * Serving Flask app '__main__'\n",
      " * Debug mode: on\n"
     ]
    },
    {
     "name": "stderr",
     "output_type": "stream",
     "text": [
      "INFO:werkzeug:\u001b[31m\u001b[1mWARNING: This is a development server. Do not use it in a production deployment. Use a production WSGI server instead.\u001b[0m\n",
      " * Running on http://127.0.0.1:5000\n",
      "INFO:werkzeug:\u001b[33mPress CTRL+C to quit\u001b[0m\n",
      "INFO:werkzeug:127.0.0.1 - - [28/Jun/2025 19:41:09] \"GET / HTTP/1.1\" 200 -\n",
      "INFO:werkzeug:127.0.0.1 - - [28/Jun/2025 19:41:09] \"\u001b[36mGET /static/images/butterfly1.jpg HTTP/1.1\u001b[0m\" 304 -\n",
      "INFO:werkzeug:127.0.0.1 - - [28/Jun/2025 19:41:09] \"\u001b[36mGET /static/images/butterfly2.jpg HTTP/1.1\u001b[0m\" 304 -\n",
      "INFO:werkzeug:127.0.0.1 - - [28/Jun/2025 19:41:11] \"GET /input HTTP/1.1\" 200 -\n",
      "INFO:werkzeug:127.0.0.1 - - [28/Jun/2025 19:41:11] \"\u001b[36mGET /static/images/banner.jpg HTTP/1.1\u001b[0m\" 304 -\n"
     ]
    }
   ],
   "source": [
    "from flask import Flask, render_template, request, jsonify\n",
    "import os\n",
    "import logging\n",
    "import numpy as np\n",
    "from tensorflow.keras.models import load_model\n",
    "from tensorflow.keras.preprocessing.image import load_img, img_to_array\n",
    "\n",
    "app = Flask(__name__)\n",
    "\n",
    "# Directory to store uploaded images\n",
    "target_img = os.path.join(os.getcwd(), 'static/images')\n",
    "if not os.path.exists(target_img):\n",
    "    os.makedirs(target_img)\n",
    "\n",
    "# Configure logging\n",
    "logging.basicConfig(level=logging.DEBUG)\n",
    "\n",
    "# Load the model\n",
    "try:\n",
    "    model = load_model('vgg16_model.h5')\n",
    "    logging.info(\"✅ Model loaded successfully.\")\n",
    "except Exception as e:\n",
    "    logging.error(\"❌ Error loading model\", exc_info=True)\n",
    "    model = None\n",
    "\n",
    "# Butterfly class mapping\n",
    "butterfly_names = {\n",
    "    0: \"ADONIS\", 1: \"AFRICAN GIANT SWALLOWTAIL\", 2: \"AMERICAN SNOOT\", 3: \"AN 31 KH\", 4: \"APPOLLO\",\n",
    "    5: \"ARIADNE\", 6: \"BANDED ORANGE HELICONIAN\", 7: \"BANDED PEACOCK\", 8: \"BECKERS WHITE\", 9: \"BLACK HAIRSTREAK\",\n",
    "    10: \"BLUE MORPHO\", 11: \"BLUE SPOTTED CROW\", 12: \"BROWN SIPROETA\", 13: \"CABBAGE WHITE\", 14: \"CAIRNS BIRDWING\",\n",
    "    15: \"CHECQUERED SKIPPER\", 16: \"CHESTNUT TIGER\", 17: \"CLEOPATRA\", 18: \"CLODIUS PARNASSIAN\", 19: \"CLOUDED SULPHUR\",\n",
    "    20: \"COMMON BANDED AWL\", 21: \"COMMON WOOD-NYMPH\", 22: \"COPPER TAIL\", 23: \"CRESCENT\", 24: \"CRIMSON PATCH\",\n",
    "    25: \"DANAID EGGFLY\", 26: \"EASTERN COMA\", 27: \"EASTERN DAPPLE WHITE\", 28: \"EASTERN PINE ELFIN\", 29: \"ELBOWED PIERROT\",\n",
    "    30: \"GOLD BANDED\", 31: \"GREAT EGGFLY\", 32: \"GREAT JAY\", 33: \"GREEN CELLED CATTLEHEART\", 34: \"GREY HAIRSTREAK\",\n",
    "    35: \"INDRA SWALLOW\", 36: \"IPHICLUS SISTER\", 37: \"JULIA\", 38: \"LARGE MARBLE\", 39: \"MALACHITE\", 40: \"MANGROVE SKIPPER\",\n",
    "    41: \"MESTRA\", 42: \"METALMARK\", 43: \"MILBERTS TORTOISESHELL\", 44: \"MONARCH\", 45: \"MOURNING CLOAK\",\n",
    "    46: \"ORANGE OAKLEAF\", 47: \"ORANGE TIP\", 48: \"ORCHARD SWALLOW\", 49: \"PAINTED LADY\", 50: \"PAPER KITE\",\n",
    "    51: \"PEACOCK\", 52: \"PINE WHITE\", 53: \"PIPEVINE SWALLOW\", 54: \"POPINJAY\", 55: \"PURPLE HAIRSTREAK\",\n",
    "    56: \"PURPLISH COPPER\", 57: \"QUESTION MARK\", 58: \"RED ADMIRAL\", 59: \"RED CRACKER\", 60: \"RED POSTMAN\",\n",
    "    61: \"RED SPOTTED PURPLE\", 62: \"SCARCE SWALLOW\", 63: \"SILVER SPOT SKIPPER\", 64: \"SLEEPY ORANGE\",\n",
    "    65: \"SOOTYWING\", 66: \"SOUTHERN DOGFACE\", 67: \"STRIPED QUEEN\", 68: \"TROPICAL LEAFWING\",\n",
    "    69: \"TWO BARRED FLASHER\", 70: \"ULYSES\", 71: \"VICEROY\", 72: \"WOOD SATYR\", 73: \"YELLOW SWALLOWTAIL\", 74: \"ZEBRA LONG WING\"\n",
    "}\n",
    "\n",
    "@app.route('/')\n",
    "def main_index():\n",
    "    return render_template('index.html')\n",
    "\n",
    "@app.route('/input')\n",
    "def input_page():\n",
    "    return render_template('input.html')\n",
    "\n",
    "@app.route('/predict', methods=['POST'])\n",
    "def predict():\n",
    "    try:\n",
    "        if 'image' not in request.files:\n",
    "            logging.error(\"No file part in request\")\n",
    "            return jsonify({'error': 'No file part'}), 400\n",
    "\n",
    "        file = request.files['image']\n",
    "        if file.filename == '':\n",
    "            logging.error(\"No file selected\")\n",
    "            return jsonify({'error': 'No selected file'}), 400\n",
    "\n",
    "        if file:\n",
    "            file_path = os.path.join(target_img, file.filename)\n",
    "            file.save(file_path)\n",
    "            logging.debug(f\"Image saved to {file_path}\")\n",
    "\n",
    "            # Preprocess\n",
    "            image = load_img(file_path, target_size=(224, 224))\n",
    "            image = img_to_array(image)\n",
    "            image = np.expand_dims(image, axis=0) / 255.0\n",
    "\n",
    "            # Predict\n",
    "            predictions = model.predict(image)\n",
    "            predicted_class = int(np.argmax(predictions[0]))\n",
    "            butterfly_name = butterfly_names.get(predicted_class, \"Unknown\")\n",
    "\n",
    "            return render_template('output.html',\n",
    "                                   butterfly=butterfly_name,\n",
    "                                   user_image=os.path.join('static/images', file.filename))\n",
    "    except Exception as e:\n",
    "        logging.error(\"Prediction error\", exc_info=True)\n",
    "        return jsonify({'error': str(e)}), 500\n",
    "\n",
    "if __name__ == '__main__':\n",
    "    app.run(debug=True, use_reloader=False)"
   ]
  },
  {
   "cell_type": "code",
   "execution_count": 2,
   "id": "d1209c3c",
   "metadata": {},
   "outputs": [
    {
     "name": "stderr",
     "output_type": "stream",
     "text": [
      "DEBUG:h5py._conv:Creating converter from 3 to 5\n",
      "INFO:root:✅ Model loaded successfully.\n"
     ]
    },
    {
     "name": "stdout",
     "output_type": "stream",
     "text": [
      " * Serving Flask app '__main__'\n",
      " * Debug mode: on\n"
     ]
    },
    {
     "name": "stderr",
     "output_type": "stream",
     "text": [
      "INFO:werkzeug:\u001b[31m\u001b[1mWARNING: This is a development server. Do not use it in a production deployment. Use a production WSGI server instead.\u001b[0m\n",
      " * Running on http://127.0.0.1:5000\n",
      "INFO:werkzeug:\u001b[33mPress CTRL+C to quit\u001b[0m\n",
      "INFO:werkzeug:127.0.0.1 - - [29/Jun/2025 11:04:00] \"GET / HTTP/1.1\" 200 -\n",
      "INFO:werkzeug:127.0.0.1 - - [29/Jun/2025 11:04:01] \"\u001b[36mGET /static/images/butterfly2.jpg HTTP/1.1\u001b[0m\" 304 -\n",
      "INFO:werkzeug:127.0.0.1 - - [29/Jun/2025 11:04:01] \"\u001b[36mGET /static/images/butterfly1.jpg HTTP/1.1\u001b[0m\" 304 -\n",
      "INFO:werkzeug:127.0.0.1 - - [29/Jun/2025 11:04:01] \"\u001b[33mGET /favicon.ico HTTP/1.1\u001b[0m\" 404 -\n",
      "INFO:werkzeug:127.0.0.1 - - [29/Jun/2025 11:04:03] \"GET /input HTTP/1.1\" 200 -\n",
      "INFO:werkzeug:127.0.0.1 - - [29/Jun/2025 11:04:03] \"\u001b[36mGET /static/images/banner.jpg HTTP/1.1\u001b[0m\" 304 -\n",
      "DEBUG:root:Image saved to C:\\Users\\priya\\OneDrive\\Documents\\PROJECT3\\static/images\\Image_75.jpg\n"
     ]
    },
    {
     "name": "stdout",
     "output_type": "stream",
     "text": [
      "1/1 [==============================] - 1s 567ms/step\n"
     ]
    },
    {
     "name": "stderr",
     "output_type": "stream",
     "text": [
      "INFO:werkzeug:127.0.0.1 - - [29/Jun/2025 11:04:16] \"POST /predict HTTP/1.1\" 200 -\n",
      "INFO:werkzeug:127.0.0.1 - - [29/Jun/2025 11:04:16] \"\u001b[36mGET /static/images/banner.jpg HTTP/1.1\u001b[0m\" 304 -\n",
      "INFO:werkzeug:127.0.0.1 - - [29/Jun/2025 11:04:50] \"\u001b[31m\u001b[1mGET /predict HTTP/1.1\u001b[0m\" 405 -\n",
      "INFO:werkzeug:127.0.0.1 - - [29/Jun/2025 12:10:55] \"GET / HTTP/1.1\" 200 -\n",
      "INFO:werkzeug:127.0.0.1 - - [29/Jun/2025 12:10:55] \"\u001b[36mGET /static/images/butterfly1.jpg HTTP/1.1\u001b[0m\" 304 -\n",
      "INFO:werkzeug:127.0.0.1 - - [29/Jun/2025 12:10:55] \"\u001b[36mGET /static/images/butterfly2.jpg HTTP/1.1\u001b[0m\" 304 -\n",
      "INFO:werkzeug:127.0.0.1 - - [29/Jun/2025 12:10:58] \"GET /input HTTP/1.1\" 200 -\n",
      "INFO:werkzeug:127.0.0.1 - - [29/Jun/2025 12:10:58] \"\u001b[36mGET /static/images/banner.jpg HTTP/1.1\u001b[0m\" 304 -\n",
      "DEBUG:root:Image saved to C:\\Users\\priya\\OneDrive\\Documents\\PROJECT3\\static/images\\Image_86.jpg\n"
     ]
    },
    {
     "name": "stdout",
     "output_type": "stream",
     "text": [
      "1/1 [==============================] - 0s 230ms/step\n"
     ]
    },
    {
     "name": "stderr",
     "output_type": "stream",
     "text": [
      "INFO:werkzeug:127.0.0.1 - - [29/Jun/2025 12:11:10] \"POST /predict HTTP/1.1\" 200 -\n",
      "INFO:werkzeug:127.0.0.1 - - [29/Jun/2025 12:11:10] \"\u001b[36mGET /static/images/banner.jpg HTTP/1.1\u001b[0m\" 304 -\n",
      "INFO:werkzeug:127.0.0.1 - - [29/Jun/2025 12:11:16] \"GET /input HTTP/1.1\" 200 -\n",
      "INFO:werkzeug:127.0.0.1 - - [29/Jun/2025 12:11:16] \"\u001b[36mGET /static/images/banner.jpg HTTP/1.1\u001b[0m\" 304 -\n",
      "DEBUG:root:Image saved to C:\\Users\\priya\\OneDrive\\Documents\\PROJECT3\\static/images\\Image_9.jpg\n"
     ]
    },
    {
     "name": "stdout",
     "output_type": "stream",
     "text": [
      "1/1 [==============================] - 0s 187ms/step\n"
     ]
    },
    {
     "name": "stderr",
     "output_type": "stream",
     "text": [
      "INFO:werkzeug:127.0.0.1 - - [29/Jun/2025 12:11:30] \"POST /predict HTTP/1.1\" 200 -\n",
      "INFO:werkzeug:127.0.0.1 - - [29/Jun/2025 12:11:30] \"\u001b[36mGET /static/images/banner.jpg HTTP/1.1\u001b[0m\" 304 -\n"
     ]
    }
   ],
   "source": [
    "from flask import Flask, render_template, request, jsonify\n",
    "import os\n",
    "import logging\n",
    "import numpy as np\n",
    "from tensorflow.keras.models import load_model\n",
    "from tensorflow.keras.preprocessing.image import load_img, img_to_array\n",
    "\n",
    "app = Flask(__name__)\n",
    "\n",
    "# Directory to store uploaded images\n",
    "target_img = os.path.join(os.getcwd(), 'static/images')\n",
    "if not os.path.exists(target_img):\n",
    "    os.makedirs(target_img)\n",
    "\n",
    "# Configure logging\n",
    "logging.basicConfig(level=logging.DEBUG)\n",
    "\n",
    "# Load the model\n",
    "try:\n",
    "    model = load_model('vgg16_model.h5')\n",
    "    logging.info(\"✅ Model loaded successfully.\")\n",
    "except Exception as e:\n",
    "    logging.error(\"❌ Error loading model\", exc_info=True)\n",
    "    model = None\n",
    "\n",
    "# Butterfly class mapping\n",
    "butterfly_names = {\n",
    "    0: \"ADONIS\", 1: \"AFRICAN GIANT SWALLOWTAIL\", 2: \"AMERICAN SNOOT\", 3: \"AN 31 KH\", 4: \"APPOLLO\",\n",
    "    5: \"ARIADNE\", 6: \"BANDED ORANGE HELICONIAN\", 7: \"BANDED PEACOCK\", 8: \"BECKERS WHITE\", 9: \"BLACK HAIRSTREAK\",\n",
    "    10: \"BLUE MORPHO\", 11: \"BLUE SPOTTED CROW\", 12: \"BROWN SIPROETA\", 13: \"CABBAGE WHITE\", 14: \"CAIRNS BIRDWING\",\n",
    "    15: \"CHECQUERED SKIPPER\", 16: \"CHESTNUT TIGER\", 17: \"CLEOPATRA\", 18: \"CLODIUS PARNASSIAN\", 19: \"CLOUDED SULPHUR\",\n",
    "    20: \"COMMON BANDED AWL\", 21: \"COMMON WOOD-NYMPH\", 22: \"COPPER TAIL\", 23: \"CRESCENT\", 24: \"CRIMSON PATCH\",\n",
    "    25: \"DANAID EGGFLY\", 26: \"EASTERN COMA\", 27: \"EASTERN DAPPLE WHITE\", 28: \"EASTERN PINE ELFIN\", 29: \"ELBOWED PIERROT\",\n",
    "    30: \"GOLD BANDED\", 31: \"GREAT EGGFLY\", 32: \"GREAT JAY\", 33: \"GREEN CELLED CATTLEHEART\", 34: \"GREY HAIRSTREAK\",\n",
    "    35: \"INDRA SWALLOW\", 36: \"IPHICLUS SISTER\", 37: \"JULIA\", 38: \"LARGE MARBLE\", 39: \"MALACHITE\", 40: \"MANGROVE SKIPPER\",\n",
    "    41: \"MESTRA\", 42: \"METALMARK\", 43: \"MILBERTS TORTOISESHELL\", 44: \"MONARCH\", 45: \"MOURNING CLOAK\",\n",
    "    46: \"ORANGE OAKLEAF\", 47: \"ORANGE TIP\", 48: \"ORCHARD SWALLOW\", 49: \"PAINTED LADY\", 50: \"PAPER KITE\",\n",
    "    51: \"PEACOCK\", 52: \"PINE WHITE\", 53: \"PIPEVINE SWALLOW\", 54: \"POPINJAY\", 55: \"PURPLE HAIRSTREAK\",\n",
    "    56: \"PURPLISH COPPER\", 57: \"QUESTION MARK\", 58: \"RED ADMIRAL\", 59: \"RED CRACKER\", 60: \"RED POSTMAN\",\n",
    "    61: \"RED SPOTTED PURPLE\", 62: \"SCARCE SWALLOW\", 63: \"SILVER SPOT SKIPPER\", 64: \"SLEEPY ORANGE\",\n",
    "    65: \"SOOTYWING\", 66: \"SOUTHERN DOGFACE\", 67: \"STRIPED QUEEN\", 68: \"TROPICAL LEAFWING\",\n",
    "    69: \"TWO BARRED FLASHER\", 70: \"ULYSES\", 71: \"VICEROY\", 72: \"WOOD SATYR\", 73: \"YELLOW SWALLOWTAIL\", 74: \"ZEBRA LONG WING\"\n",
    "}\n",
    "\n",
    "@app.route('/')\n",
    "def main_index():\n",
    "    return render_template('index.html')\n",
    "\n",
    "@app.route('/input')\n",
    "def input_page():\n",
    "    return render_template('input.html')\n",
    "\n",
    "@app.route('/predict', methods=['POST'])\n",
    "def predict():\n",
    "    try:\n",
    "        if 'image' not in request.files:\n",
    "            logging.error(\"No file part in request\")\n",
    "            return jsonify({'error': 'No file part'}), 400\n",
    "\n",
    "        file = request.files['image']\n",
    "        if file.filename == '':\n",
    "            logging.error(\"No file selected\")\n",
    "            return jsonify({'error': 'No selected file'}), 400\n",
    "\n",
    "        if file:\n",
    "            file_path = os.path.join(target_img, file.filename)\n",
    "            file.save(file_path)\n",
    "            logging.debug(f\"Image saved to {file_path}\")\n",
    "\n",
    "            # Preprocess\n",
    "            image = load_img(file_path, target_size=(224, 224))\n",
    "            image = img_to_array(image)\n",
    "            image = np.expand_dims(image, axis=0) / 255.0\n",
    "\n",
    "            # Predict\n",
    "            predictions = model.predict(image)\n",
    "            predicted_class = int(np.argmax(predictions[0]))\n",
    "            butterfly_name = butterfly_names.get(predicted_class, \"Unknown\")\n",
    "\n",
    "            return render_template('output.html',\n",
    "                                   butterfly=butterfly_name,\n",
    "                                   user_image=os.path.join('static/images', file.filename))\n",
    "    except Exception as e:\n",
    "        logging.error(\"Prediction error\", exc_info=True)\n",
    "        return jsonify({'error': str(e)}), 500\n",
    "\n",
    "if __name__ == '__main__':\n",
    "    app.run(debug=True, use_reloader=False)"
   ]
  },
  {
   "cell_type": "code",
   "execution_count": 4,
   "id": "3693bd55",
   "metadata": {},
   "outputs": [
    {
     "name": "stdout",
     "output_type": "stream",
     "text": [
      "Model: \"sequential\"\n",
      "_________________________________________________________________\n",
      " Layer (type)                Output Shape              Param #   \n",
      "=================================================================\n",
      " vgg16 (Functional)          (None, 7, 7, 512)         14714688  \n",
      "                                                                 \n",
      " flatten (Flatten)           (None, 25088)             0         \n",
      "                                                                 \n",
      " dropout (Dropout)           (None, 25088)             0         \n",
      "                                                                 \n",
      " dense (Dense)               (None, 128)               3211392   \n",
      "                                                                 \n",
      " dense_1 (Dense)             (None, 75)                9675      \n",
      "                                                                 \n",
      "=================================================================\n",
      "Total params: 17,935,755\n",
      "Trainable params: 3,221,067\n",
      "Non-trainable params: 14,714,688\n",
      "_________________________________________________________________\n"
     ]
    }
   ],
   "source": [
    "model.summary()"
   ]
  },
  {
   "cell_type": "code",
   "execution_count": 5,
   "id": "5c692508",
   "metadata": {},
   "outputs": [
    {
     "name": "stdout",
     "output_type": "stream",
     "text": [
      "You must install pydot (`pip install pydot`) and install graphviz (see instructions at https://graphviz.gitlab.io/download/) for plot_model to work.\n"
     ]
    }
   ],
   "source": [
    "from keras.utils import plot_model\n",
    "plot_model(model, to_file='model.png', show_shapes=True)"
   ]
  },
  {
   "cell_type": "code",
   "execution_count": 9,
   "id": "985a77e5",
   "metadata": {},
   "outputs": [
    {
     "ename": "NameError",
     "evalue": "name 'history' is not defined",
     "output_type": "error",
     "traceback": [
      "\u001b[1;31m---------------------------------------------------------------------------\u001b[0m",
      "\u001b[1;31mNameError\u001b[0m                                 Traceback (most recent call last)",
      "Cell \u001b[1;32mIn[9], line 1\u001b[0m\n\u001b[1;32m----> 1\u001b[0m \u001b[43mhistory\u001b[49m\u001b[38;5;241m.\u001b[39mhistory[\u001b[38;5;124m'\u001b[39m\u001b[38;5;124maccuracy\u001b[39m\u001b[38;5;124m'\u001b[39m], history\u001b[38;5;241m.\u001b[39mhistory[\u001b[38;5;124m'\u001b[39m\u001b[38;5;124mval_accuracy\u001b[39m\u001b[38;5;124m'\u001b[39m]\n",
      "\u001b[1;31mNameError\u001b[0m: name 'history' is not defined"
     ]
    }
   ],
   "source": [
    "history.history['accuracy'], history.history['val_accuracy']"
   ]
  },
  {
   "cell_type": "code",
   "execution_count": 10,
   "id": "63ed67bd",
   "metadata": {},
   "outputs": [
    {
     "ename": "NameError",
     "evalue": "name 'val_data' is not defined",
     "output_type": "error",
     "traceback": [
      "\u001b[1;31m---------------------------------------------------------------------------\u001b[0m",
      "\u001b[1;31mNameError\u001b[0m                                 Traceback (most recent call last)",
      "Cell \u001b[1;32mIn[10], line 1\u001b[0m\n\u001b[1;32m----> 1\u001b[0m loss, acc \u001b[38;5;241m=\u001b[39m model\u001b[38;5;241m.\u001b[39mevaluate(\u001b[43mval_data\u001b[49m)\n\u001b[0;32m      2\u001b[0m \u001b[38;5;28mprint\u001b[39m(\u001b[38;5;124mf\u001b[39m\u001b[38;5;124m\"\u001b[39m\u001b[38;5;124mValidation Accuracy: \u001b[39m\u001b[38;5;132;01m{\u001b[39;00macc\u001b[38;5;250m \u001b[39m\u001b[38;5;241m*\u001b[39m\u001b[38;5;250m \u001b[39m\u001b[38;5;241m100\u001b[39m\u001b[38;5;132;01m:\u001b[39;00m\u001b[38;5;124m.2f\u001b[39m\u001b[38;5;132;01m}\u001b[39;00m\u001b[38;5;124m%\u001b[39m\u001b[38;5;124m\"\u001b[39m)\n",
      "\u001b[1;31mNameError\u001b[0m: name 'val_data' is not defined"
     ]
    }
   ],
   "source": [
    "loss, acc = model.evaluate(val_data)\n",
    "print(f\"Validation Accuracy: {acc * 100:.2f}%\")"
   ]
  },
  {
   "cell_type": "code",
   "execution_count": 11,
   "id": "f91f604c",
   "metadata": {},
   "outputs": [
    {
     "ename": "FileNotFoundError",
     "evalue": "[Errno 2] No such file or directory: 'path_to_image.jpg'",
     "output_type": "error",
     "traceback": [
      "\u001b[1;31m---------------------------------------------------------------------------\u001b[0m",
      "\u001b[1;31mFileNotFoundError\u001b[0m                         Traceback (most recent call last)",
      "Cell \u001b[1;32mIn[11], line 1\u001b[0m\n\u001b[1;32m----> 1\u001b[0m img \u001b[38;5;241m=\u001b[39m \u001b[43mload_img\u001b[49m\u001b[43m(\u001b[49m\u001b[38;5;124;43m\"\u001b[39;49m\u001b[38;5;124;43mpath_to_image.jpg\u001b[39;49m\u001b[38;5;124;43m\"\u001b[39;49m\u001b[43m,\u001b[49m\u001b[43m \u001b[49m\u001b[43mtarget_size\u001b[49m\u001b[38;5;241;43m=\u001b[39;49m\u001b[43m(\u001b[49m\u001b[38;5;241;43m224\u001b[39;49m\u001b[43m,\u001b[49m\u001b[43m \u001b[49m\u001b[38;5;241;43m224\u001b[39;49m\u001b[43m)\u001b[49m\u001b[43m)\u001b[49m\n\u001b[0;32m      2\u001b[0m img \u001b[38;5;241m=\u001b[39m img_to_array(img) \u001b[38;5;241m/\u001b[39m \u001b[38;5;241m255.0\u001b[39m\n\u001b[0;32m      3\u001b[0m img \u001b[38;5;241m=\u001b[39m np\u001b[38;5;241m.\u001b[39mexpand_dims(img, axis\u001b[38;5;241m=\u001b[39m\u001b[38;5;241m0\u001b[39m)\n",
      "File \u001b[1;32m~\\anaconda3\\envs\\tfenv39\\lib\\site-packages\\keras\\utils\\image_utils.py:422\u001b[0m, in \u001b[0;36mload_img\u001b[1;34m(path, grayscale, color_mode, target_size, interpolation, keep_aspect_ratio)\u001b[0m\n\u001b[0;32m    420\u001b[0m     \u001b[38;5;28;01mif\u001b[39;00m \u001b[38;5;28misinstance\u001b[39m(path, pathlib\u001b[38;5;241m.\u001b[39mPath):\n\u001b[0;32m    421\u001b[0m         path \u001b[38;5;241m=\u001b[39m \u001b[38;5;28mstr\u001b[39m(path\u001b[38;5;241m.\u001b[39mresolve())\n\u001b[1;32m--> 422\u001b[0m     \u001b[38;5;28;01mwith\u001b[39;00m \u001b[38;5;28;43mopen\u001b[39;49m\u001b[43m(\u001b[49m\u001b[43mpath\u001b[49m\u001b[43m,\u001b[49m\u001b[43m \u001b[49m\u001b[38;5;124;43m\"\u001b[39;49m\u001b[38;5;124;43mrb\u001b[39;49m\u001b[38;5;124;43m\"\u001b[39;49m\u001b[43m)\u001b[49m \u001b[38;5;28;01mas\u001b[39;00m f:\n\u001b[0;32m    423\u001b[0m         img \u001b[38;5;241m=\u001b[39m pil_image\u001b[38;5;241m.\u001b[39mopen(io\u001b[38;5;241m.\u001b[39mBytesIO(f\u001b[38;5;241m.\u001b[39mread()))\n\u001b[0;32m    424\u001b[0m \u001b[38;5;28;01melse\u001b[39;00m:\n",
      "\u001b[1;31mFileNotFoundError\u001b[0m: [Errno 2] No such file or directory: 'path_to_image.jpg'"
     ]
    }
   ],
   "source": [
    "img = load_img(\"path_to_image.jpg\", target_size=(224, 224))\n",
    "img = img_to_array(img) / 255.0\n",
    "img = np.expand_dims(img, axis=0)\n",
    "\n",
    "prediction = model.predict(img)\n",
    "predicted_class = np.argmax(prediction)"
   ]
  },
  {
   "cell_type": "code",
   "execution_count": 13,
   "id": "e27de459",
   "metadata": {},
   "outputs": [
    {
     "name": "stdout",
     "output_type": "stream",
     "text": [
      "Found 6499 images belonging to 75 classes.\n"
     ]
    }
   ],
   "source": [
    "from tensorflow.keras.preprocessing.image import ImageDataGenerator\n",
    "\n",
    "val_datagen = ImageDataGenerator(rescale=1.0/255)\n",
    "\n",
    "val_data = val_datagen.flow_from_directory(\n",
    "    'butterfly_dataset/train',  # adjust path if needed\n",
    "    target_size=(224, 224),\n",
    "    batch_size=32,\n",
    "    class_mode='sparse'\n",
    ")"
   ]
  },
  {
   "cell_type": "code",
   "execution_count": 14,
   "id": "22ba08dd",
   "metadata": {},
   "outputs": [],
   "source": [
    "from tensorflow.keras.models import load_model\n",
    "model = load_model('vgg16_model.h5')"
   ]
  },
  {
   "cell_type": "code",
   "execution_count": 16,
   "id": "3d748d84",
   "metadata": {},
   "outputs": [
    {
     "name": "stdout",
     "output_type": "stream",
     "text": [
      "204/204 [==============================] - 531s 3s/step - loss: 0.2795 - accuracy: 0.9346\n",
      "Validation Accuracy: 93.46%\n"
     ]
    }
   ],
   "source": [
    "loss, accuracy = model.evaluate(val_data)\n",
    "print(f\"Validation Accuracy: {accuracy * 100:.2f}%\")"
   ]
  },
  {
   "cell_type": "code",
   "execution_count": 17,
   "id": "9ff8b6bf",
   "metadata": {},
   "outputs": [
    {
     "name": "stdout",
     "output_type": "stream",
     "text": [
      "Found 5225 images belonging to 75 classes.\n",
      "Found 1274 images belonging to 75 classes.\n"
     ]
    }
   ],
   "source": [
    "from tensorflow.keras.preprocessing.image import ImageDataGenerator\n",
    "\n",
    "train_datagen = ImageDataGenerator(rescale=1.0/255, validation_split=0.2)\n",
    "\n",
    "train_data = train_datagen.flow_from_directory(\n",
    "    'butterfly_dataset/train',\n",
    "    target_size=(224, 224),\n",
    "    batch_size=32,\n",
    "    class_mode='sparse',\n",
    "    subset='training'\n",
    ")\n",
    "\n",
    "val_data = train_datagen.flow_from_directory(\n",
    "    'butterfly_dataset/train',\n",
    "    target_size=(224, 224),\n",
    "    batch_size=32,\n",
    "    class_mode='sparse',\n",
    "    subset='validation'\n",
    ")"
   ]
  },
  {
   "cell_type": "code",
   "execution_count": 18,
   "id": "8975b280",
   "metadata": {},
   "outputs": [],
   "source": [
    "from tensorflow.keras.applications import VGG16\n",
    "from tensorflow.keras.models import Sequential\n",
    "from tensorflow.keras.layers import Flatten, Dense, Dropout\n",
    "from tensorflow.keras.optimizers import Adam\n",
    "\n",
    "base_model = VGG16(weights='imagenet', include_top=False, input_shape=(224, 224, 3))\n",
    "base_model.trainable = False  # Freeze base\n",
    "\n",
    "model = Sequential([\n",
    "    base_model,\n",
    "    Flatten(),\n",
    "    Dropout(0.5),\n",
    "    Dense(128, activation='relu'),\n",
    "    Dense(75, activation='softmax')\n",
    "])\n",
    "\n",
    "model.compile(optimizer=Adam(learning_rate=0.0001), loss='sparse_categorical_crossentropy', metrics=['accuracy'])"
   ]
  },
  {
   "cell_type": "code",
   "execution_count": 19,
   "id": "f45a7988",
   "metadata": {},
   "outputs": [
    {
     "name": "stdout",
     "output_type": "stream",
     "text": [
      "Epoch 1/10\n",
      "164/164 [==============================] - 544s 3s/step - loss: 4.0644 - accuracy: 0.0878 - val_loss: 3.2774 - val_accuracy: 0.3038\n",
      "Epoch 2/10\n",
      "164/164 [==============================] - 544s 3s/step - loss: 2.6711 - accuracy: 0.3948 - val_loss: 1.9915 - val_accuracy: 0.6075\n",
      "Epoch 3/10\n",
      "164/164 [==============================] - 770s 5s/step - loss: 1.5764 - accuracy: 0.6676 - val_loss: 1.4589 - val_accuracy: 0.6852\n",
      "Epoch 4/10\n",
      "164/164 [==============================] - 2013s 12s/step - loss: 1.0207 - accuracy: 0.7954 - val_loss: 1.1833 - val_accuracy: 0.7614\n",
      "Epoch 5/10\n",
      "164/164 [==============================] - 519s 3s/step - loss: 0.6947 - accuracy: 0.8766 - val_loss: 1.0565 - val_accuracy: 0.7669\n",
      "Epoch 6/10\n",
      "164/164 [==============================] - 724s 4s/step - loss: 0.4973 - accuracy: 0.9190 - val_loss: 0.9269 - val_accuracy: 0.7779\n",
      "Epoch 7/10\n",
      "164/164 [==============================] - 756s 5s/step - loss: 0.3617 - accuracy: 0.9479 - val_loss: 0.8656 - val_accuracy: 0.7975\n",
      "Epoch 8/10\n",
      "164/164 [==============================] - 654s 4s/step - loss: 0.2773 - accuracy: 0.9657 - val_loss: 0.8176 - val_accuracy: 0.8116\n",
      "Epoch 9/10\n",
      "164/164 [==============================] - 568s 3s/step - loss: 0.2034 - accuracy: 0.9824 - val_loss: 0.7699 - val_accuracy: 0.8116\n",
      "Epoch 10/10\n",
      "164/164 [==============================] - 574s 4s/step - loss: 0.1559 - accuracy: 0.9887 - val_loss: 0.7537 - val_accuracy: 0.8116\n"
     ]
    }
   ],
   "source": [
    "history = model.fit(\n",
    "    train_data,\n",
    "    epochs=10,\n",
    "    validation_data=val_data\n",
    ")"
   ]
  },
  {
   "cell_type": "code",
   "execution_count": 20,
   "id": "6e325212",
   "metadata": {},
   "outputs": [
    {
     "name": "stdout",
     "output_type": "stream",
     "text": [
      "Training Accuracy: 98.87%\n",
      "Validation Accuracy: 81.16%\n"
     ]
    }
   ],
   "source": [
    "train_acc = history.history['accuracy'][-1]\n",
    "val_acc = history.history['val_accuracy'][-1]\n",
    "\n",
    "print(f\"Training Accuracy: {train_acc * 100:.2f}%\")\n",
    "print(f\"Validation Accuracy: {val_acc * 100:.2f}%\")"
   ]
  },
  {
   "cell_type": "code",
   "execution_count": 22,
   "id": "682afa65",
   "metadata": {},
   "outputs": [
    {
     "data": {
      "image/png": "[encoded data removed]",
      "text/plain": [
       "<Figure size 640x480 with 1 Axes>"
      ]
     },
     "metadata": {},
     "output_type": "display_data"
    }
   ],
   "source": [
    "import logging\n",
    "logging.getLogger('matplotlib').setLevel(logging.WARNING)\n",
    "import matplotlib.pyplot as plt\n",
    "plt.plot(history.history['accuracy'], label='Training Accuracy')\n",
    "plt.plot(history.history['val_accuracy'], label='Validation Accuracy')\n",
    "plt.xlabel('Epochs')\n",
    "plt.ylabel('Accuracy')\n",
    "plt.title('Training vs Validation Accuracy')\n",
    "plt.legend()\n",
    "plt.grid(True)\n",
    "plt.show()"
   ]
  },
  {
   "cell_type": "code",
   "execution_count": null,
   "id": "e4af4816",
   "metadata": {},
   "outputs": [
    {
     "name": "stderr",
     "output_type": "stream",
     "text": [
      "INFO:root:✅ Model loaded successfully.\n"
     ]
    },
    {
     "name": "stdout",
     "output_type": "stream",
     "text": [
      " * Serving Flask app '__main__'\n",
      " * Debug mode: on\n"
     ]
    },
    {
     "name": "stderr",
     "output_type": "stream",
     "text": [
      "INFO:werkzeug:\u001b[31m\u001b[1mWARNING: This is a development server. Do not use it in a production deployment. Use a production WSGI server instead.\u001b[0m\n",
      " * Running on http://127.0.0.1:5000\n",
      "INFO:werkzeug:\u001b[33mPress CTRL+C to quit\u001b[0m\n",
      "INFO:werkzeug:127.0.0.1 - - [29/Jun/2025 15:06:37] \"GET / HTTP/1.1\" 200 -\n",
      "INFO:werkzeug:127.0.0.1 - - [29/Jun/2025 15:06:37] \"\u001b[36mGET /static/images/butterfly2.jpg HTTP/1.1\u001b[0m\" 304 -\n",
      "INFO:werkzeug:127.0.0.1 - - [29/Jun/2025 15:06:37] \"\u001b[36mGET /static/images/butterfly1.jpg HTTP/1.1\u001b[0m\" 304 -\n",
      "INFO:werkzeug:127.0.0.1 - - [29/Jun/2025 15:06:58] \"GET /input HTTP/1.1\" 200 -\n",
      "INFO:werkzeug:127.0.0.1 - - [29/Jun/2025 15:06:58] \"\u001b[36mGET /static/images/banner.jpg HTTP/1.1\u001b[0m\" 304 -\n",
      "DEBUG:root:Image saved to C:\\Users\\priya\\OneDrive\\Documents\\PROJECT3\\static/images\\Image_93.jpg\n"
     ]
    },
    {
     "name": "stdout",
     "output_type": "stream",
     "text": [
      "1/1 [==============================] - 0s 198ms/step\n"
     ]
    },
    {
     "name": "stderr",
     "output_type": "stream",
     "text": [
      "INFO:werkzeug:127.0.0.1 - - [29/Jun/2025 15:07:56] \"POST /predict HTTP/1.1\" 200 -\n",
      "INFO:werkzeug:127.0.0.1 - - [29/Jun/2025 15:07:56] \"\u001b[36mGET /static/images/banner.jpg HTTP/1.1\u001b[0m\" 304 -\n",
      "INFO:werkzeug:127.0.0.1 - - [29/Jun/2025 15:13:13] \"GET / HTTP/1.1\" 200 -\n",
      "INFO:werkzeug:127.0.0.1 - - [29/Jun/2025 15:13:13] \"\u001b[36mGET /static/images/butterfly1.jpg HTTP/1.1\u001b[0m\" 304 -\n",
      "INFO:werkzeug:127.0.0.1 - - [29/Jun/2025 15:13:13] \"\u001b[36mGET /static/images/butterfly2.jpg HTTP/1.1\u001b[0m\" 304 -\n",
      "INFO:werkzeug:127.0.0.1 - - [29/Jun/2025 15:19:36] \"GET /input HTTP/1.1\" 200 -\n",
      "INFO:werkzeug:127.0.0.1 - - [29/Jun/2025 15:19:36] \"\u001b[36mGET /static/images/banner.jpg HTTP/1.1\u001b[0m\" 304 -\n",
      "DEBUG:root:Image saved to C:\\Users\\priya\\OneDrive\\Documents\\PROJECT3\\static/images\\Image_3.jpg\n"
     ]
    },
    {
     "name": "stdout",
     "output_type": "stream",
     "text": [
      "1/1 [==============================] - 0s 113ms/step\n"
     ]
    },
    {
     "name": "stderr",
     "output_type": "stream",
     "text": [
      "INFO:werkzeug:127.0.0.1 - - [29/Jun/2025 15:19:42] \"POST /predict HTTP/1.1\" 200 -\n",
      "INFO:werkzeug:127.0.0.1 - - [29/Jun/2025 15:19:42] \"\u001b[36mGET /static/images/banner.jpg HTTP/1.1\u001b[0m\" 304 -\n",
      "INFO:werkzeug:127.0.0.1 - - [29/Jun/2025 15:30:11] \"GET / HTTP/1.1\" 200 -\n",
      "INFO:werkzeug:127.0.0.1 - - [29/Jun/2025 15:30:11] \"\u001b[36mGET /static/images/butterfly1.jpg HTTP/1.1\u001b[0m\" 304 -\n",
      "INFO:werkzeug:127.0.0.1 - - [29/Jun/2025 15:30:11] \"\u001b[36mGET /static/images/butterfly2.jpg HTTP/1.1\u001b[0m\" 304 -\n",
      "INFO:werkzeug:127.0.0.1 - - [29/Jun/2025 15:30:16] \"GET /input HTTP/1.1\" 200 -\n",
      "INFO:werkzeug:127.0.0.1 - - [29/Jun/2025 15:30:16] \"\u001b[36mGET /static/images/banner.jpg HTTP/1.1\u001b[0m\" 304 -\n",
      "DEBUG:root:Image saved to C:\\Users\\priya\\OneDrive\\Documents\\PROJECT3\\static/images\\Image_77.jpg\n"
     ]
    },
    {
     "name": "stdout",
     "output_type": "stream",
     "text": [
      "1/1 [==============================] - 0s 130ms/step\n"
     ]
    },
    {
     "name": "stderr",
     "output_type": "stream",
     "text": [
      "INFO:werkzeug:127.0.0.1 - - [29/Jun/2025 15:30:45] \"POST /predict HTTP/1.1\" 200 -\n",
      "INFO:werkzeug:127.0.0.1 - - [29/Jun/2025 15:30:45] \"\u001b[36mGET /static/images/banner.jpg HTTP/1.1\u001b[0m\" 304 -\n"
     ]
    }
   ],
   "source": [
    "from flask import Flask, render_template, request, jsonify\n",
    "import os\n",
    "import logging\n",
    "import numpy as np\n",
    "from tensorflow.keras.models import load_model\n",
    "from tensorflow.keras.preprocessing.image import load_img, img_to_array\n",
    "\n",
    "app = Flask(__name__)\n",
    "\n",
    "# Directory to store uploaded images\n",
    "target_img = os.path.join(os.getcwd(), 'static/images')\n",
    "if not os.path.exists(target_img):\n",
    "    os.makedirs(target_img)\n",
    "\n",
    "# Configure logging\n",
    "logging.basicConfig(level=logging.DEBUG)\n",
    "\n",
    "# Load the model\n",
    "try:\n",
    "    model = load_model('vgg16_model.h5')\n",
    "    logging.info(\"✅ Model loaded successfully.\")\n",
    "except Exception as e:\n",
    "    logging.error(\"❌ Error loading model\", exc_info=True)\n",
    "    model = None\n",
    "\n",
    "# Butterfly class mapping\n",
    "butterfly_names = {\n",
    "    0: \"ADONIS\", 1: \"AFRICAN GIANT SWALLOWTAIL\", 2: \"AMERICAN SNOOT\", 3: \"AN 31 KH\", 4: \"APPOLLO\",\n",
    "    5: \"ARIADNE\", 6: \"BANDED ORANGE HELICONIAN\", 7: \"BANDED PEACOCK\", 8: \"BECKERS WHITE\", 9: \"BLACK HAIRSTREAK\",\n",
    "    10: \"BLUE MORPHO\", 11: \"BLUE SPOTTED CROW\", 12: \"BROWN SIPROETA\", 13: \"CABBAGE WHITE\", 14: \"CAIRNS BIRDWING\",\n",
    "    15: \"CHECQUERED SKIPPER\", 16: \"CHESTNUT TIGER\", 17: \"CLEOPATRA\", 18: \"CLODIUS PARNASSIAN\", 19: \"CLOUDED SULPHUR\",\n",
    "    20: \"COMMON BANDED AWL\", 21: \"COMMON WOOD-NYMPH\", 22: \"COPPER TAIL\", 23: \"CRESCENT\", 24: \"CRIMSON PATCH\",\n",
    "    25: \"DANAID EGGFLY\", 26: \"EASTERN COMA\", 27: \"EASTERN DAPPLE WHITE\", 28: \"EASTERN PINE ELFIN\", 29: \"ELBOWED PIERROT\",\n",
    "    30: \"GOLD BANDED\", 31: \"GREAT EGGFLY\", 32: \"GREAT JAY\", 33: \"GREEN CELLED CATTLEHEART\", 34: \"GREY HAIRSTREAK\",\n",
    "    35: \"INDRA SWALLOW\", 36: \"IPHICLUS SISTER\", 37: \"JULIA\", 38: \"LARGE MARBLE\", 39: \"MALACHITE\", 40: \"MANGROVE SKIPPER\",\n",
    "    41: \"MESTRA\", 42: \"METALMARK\", 43: \"MILBERTS TORTOISESHELL\", 44: \"MONARCH\", 45: \"MOURNING CLOAK\",\n",
    "    46: \"ORANGE OAKLEAF\", 47: \"ORANGE TIP\", 48: \"ORCHARD SWALLOW\", 49: \"PAINTED LADY\", 50: \"PAPER KITE\",\n",
    "    51: \"PEACOCK\", 52: \"PINE WHITE\", 53: \"PIPEVINE SWALLOW\", 54: \"POPINJAY\", 55: \"PURPLE HAIRSTREAK\",\n",
    "    56: \"PURPLISH COPPER\", 57: \"QUESTION MARK\", 58: \"RED ADMIRAL\", 59: \"RED CRACKER\", 60: \"RED POSTMAN\",\n",
    "    61: \"RED SPOTTED PURPLE\", 62: \"SCARCE SWALLOW\", 63: \"SILVER SPOT SKIPPER\", 64: \"SLEEPY ORANGE\",\n",
    "    65: \"SOOTYWING\", 66: \"SOUTHERN DOGFACE\", 67: \"STRIPED QUEEN\", 68: \"TROPICAL LEAFWING\",\n",
    "    69: \"TWO BARRED FLASHER\", 70: \"ULYSES\", 71: \"VICEROY\", 72: \"WOOD SATYR\", 73: \"YELLOW SWALLOWTAIL\", 74: \"ZEBRA LONG WING\"\n",
    "}\n",
    "\n",
    "@app.route('/')\n",
    "def main_index():\n",
    "    return render_template('index.html')\n",
    "\n",
    "@app.route('/input')\n",
    "def input_page():\n",
    "    return render_template('input.html')\n",
    "\n",
    "@app.route('/predict', methods=['POST'])\n",
    "def predict():\n",
    "    try:\n",
    "        if 'image' not in request.files:\n",
    "            logging.error(\"No file part in request\")\n",
    "            return jsonify({'error': 'No file part'}), 400\n",
    "\n",
    "        file = request.files['image']\n",
    "        if file.filename == '':\n",
    "            logging.error(\"No file selected\")\n",
    "            return jsonify({'error': 'No selected file'}), 400\n",
    "\n",
    "        if file:\n",
    "            file_path = os.path.join(target_img, file.filename)\n",
    "            file.save(file_path)\n",
    "            logging.debug(f\"Image saved to {file_path}\")\n",
    "\n",
    "            # Preprocess\n",
    "            image = load_img(file_path, target_size=(224, 224))\n",
    "            image = img_to_array(image)\n",
    "            image = np.expand_dims(image, axis=0) / 255.0\n",
    "\n",
    "            # Predict\n",
    "            predictions = model.predict(image)\n",
    "            predicted_class = int(np.argmax(predictions[0]))\n",
    "            butterfly_name = butterfly_names.get(predicted_class, \"Unknown\")\n",
    "\n",
    "            return render_template('output.html',\n",
    "                                   butterfly=butterfly_name,\n",
    "                                   user_image=os.path.join('static/images', file.filename))\n",
    "    except Exception as e:\n",
    "        logging.error(\"Prediction error\", exc_info=True)\n",
    "        return jsonify({'error': str(e)}), 500\n",
    "\n",
    "if __name__ == '__main__':\n",
    "    app.run(debug=True, use_reloader=False)"
   ]
  },
  {
   "cell_type": "code",
   "execution_count": 1,
   "id": "1c7885e5",
   "metadata": {},
   "outputs": [
    {
     "name": "stderr",
     "output_type": "stream",
     "text": [
      "[NbConvertApp] Converting notebook app.ipynb to script\n",
      "[NbConvertApp] Writing 20790 bytes to app.py\n"
     ]
    }
   ],
   "source": [
    "!jupyter nbconvert --to script app.ipynb"
   ]
  },
  {
   "cell_type": "code",
   "execution_count": null,
   "id": "606d04d6",
   "metadata": {},
   "outputs": [],
   "source": []
  }
 ],
 "metadata": {
  "kernelspec": {
   "display_name": "tfenv39",
   "language": "python",
   "name": "tfenv39"
  },
  "language_info": {
   "codemirror_mode": {
    "name": "ipython",
    "version": 3
   },
   "file_extension": ".py",
   "mimetype": "text/x-python",
   "name": "python",
   "nbconvert_exporter": "python",
   "pygments_lexer": "ipython3",
   "version": "3.9.23"
  }
 },
 "nbformat": 4,
 "nbformat_minor": 5
}
